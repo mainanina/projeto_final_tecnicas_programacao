{
 "cells": [
  {
   "cell_type": "markdown",
   "metadata": {},
   "source": [
    "### Projeto de conclusão do módulo III - Técnicas de Programação\n",
    "#### Elaborado por Maína Alexandre"
   ]
  },
  {
   "cell_type": "code",
   "execution_count": null,
   "metadata": {},
   "outputs": [],
   "source": [
    "import pandas as pd\n",
    "from geopy.distance import geodesic\n",
    "from unidecode import unidecode\n",
    "import re\n",
    "import random\n",
    "import matplotlib.pyplot as plt"
   ]
  },
  {
   "cell_type": "code",
   "execution_count": null,
   "metadata": {},
   "outputs": [],
   "source": [
    "# Carregando os arquivos .csv para dataframes\n",
    "df_escolas = pd.read_csv('escolas.csv')\n",
    "df_material = pd.read_csv('material_didatico.csv')\n",
    "df_subprefeituras = pd.read_csv('subprefeituras.csv')"
   ]
  },
  {
   "cell_type": "code",
   "execution_count": null,
   "metadata": {},
   "outputs": [],
   "source": [
    "df_escolas.head()"
   ]
  },
  {
   "cell_type": "code",
   "execution_count": null,
   "metadata": {},
   "outputs": [],
   "source": [
    "df_material.head()"
   ]
  },
  {
   "cell_type": "code",
   "execution_count": null,
   "metadata": {},
   "outputs": [],
   "source": [
    "df_subprefeituras.head()"
   ]
  },
  {
   "cell_type": "code",
   "execution_count": null,
   "metadata": {},
   "outputs": [],
   "source": [
    "# renomeando a coluna no df de subprefeituras para usar como chave comum no merge\n",
    "df_subprefeituras.rename(columns={'nome': 'BAIRRO'}, inplace=True)\n",
    "\n",
    "# tratando o nome dos bairros nos dois dataframes\n",
    "df_subprefeituras['BAIRRO'] = df_subprefeituras['BAIRRO'].str.upper()\n",
    "df_escolas['BAIRRO'] = df_escolas['BAIRRO'].str.upper()"
   ]
  },
  {
   "cell_type": "code",
   "execution_count": null,
   "metadata": {},
   "outputs": [],
   "source": [
    "# unindo escolas com subprefeituras\n",
    "df_junto = df_escolas.merge(df_subprefeituras, on='BAIRRO', how='left')\n",
    "df_junto.head()"
   ]
  },
  {
   "cell_type": "code",
   "execution_count": null,
   "metadata": {},
   "outputs": [],
   "source": [
    "# unindo com materiais\n",
    "df_entregas = df_junto.merge(df_material, on='id', how='left')\n",
    "df_entregas.head()"
   ]
  },
  {
   "cell_type": "code",
   "execution_count": null,
   "metadata": {},
   "outputs": [],
   "source": [
    "df_entregas.columns"
   ]
  },
  {
   "cell_type": "code",
   "execution_count": null,
   "metadata": {},
   "outputs": [],
   "source": [
    "df_entregas['Escolas_Postos'] = df_entregas['Escolas_Postos'].str.upper()\n",
    "df_entregas['ENDEREÇO '] = df_entregas['ENDEREÇO '].str.upper()\n",
    "df_entregas['subprefeitura'] = df_entregas['subprefeitura'].str.upper()\n"
   ]
  },
  {
   "cell_type": "code",
   "execution_count": null,
   "metadata": {},
   "outputs": [],
   "source": [
    "df_entregas.shape"
   ]
  },
  {
   "cell_type": "code",
   "execution_count": null,
   "metadata": {},
   "outputs": [],
   "source": [
    "df_entregas.isnull().sum()"
   ]
  },
  {
   "cell_type": "code",
   "execution_count": null,
   "metadata": {},
   "outputs": [],
   "source": [
    "df_entregas[df_entregas.isnull().any(axis=1)]"
   ]
  },
  {
   "cell_type": "code",
   "execution_count": null,
   "metadata": {},
   "outputs": [],
   "source": [
    "df_entregas['Quantidade'].unique()"
   ]
  },
  {
   "cell_type": "code",
   "execution_count": null,
   "metadata": {},
   "outputs": [],
   "source": [
    "df_entregas['Quantidade'] =  df_entregas['Quantidade'].apply(lambda x: x.strip(\"' \").strip() if isinstance(x, str) else x)\n",
    "df_entregas['Quantidade'] =  df_entregas['Quantidade'].fillna(0)\n",
    "df_entregas['Quantidade'] =  df_entregas['Quantidade'].replace({'NaN':0, '':0})\n",
    "df_entregas['Quantidade'] =  df_entregas['Quantidade'].astype(int)\n",
    "\n",
    "df_entregas['Quantidade'].unique()\n",
    "\n"
   ]
  },
  {
   "cell_type": "code",
   "execution_count": null,
   "metadata": {},
   "outputs": [],
   "source": [
    "print('Média:', df_entregas['Quantidade'].mean())\n",
    "print('Mediana:', df_entregas['Quantidade'].median())\n"
   ]
  },
  {
   "cell_type": "code",
   "execution_count": null,
   "metadata": {},
   "outputs": [],
   "source": [
    "df_entregas['Quantidade'] =  df_entregas['Quantidade'].replace(0, 311)\n",
    "df_entregas['Quantidade'].unique()"
   ]
  },
  {
   "cell_type": "code",
   "execution_count": null,
   "metadata": {},
   "outputs": [],
   "source": [
    "df_entregas['BAIRRO'].unique()"
   ]
  },
  {
   "cell_type": "code",
   "execution_count": null,
   "metadata": {},
   "outputs": [],
   "source": [
    "pd.set_option('display.float_format', '{:.5f}'.format)\n",
    "df_entregas['lat'] =  df_entregas['lat'].str.replace(',', '.').astype(float).round(5)\n",
    "df_entregas['lat'].unique()"
   ]
  },
  {
   "cell_type": "code",
   "execution_count": null,
   "metadata": {},
   "outputs": [],
   "source": [
    "df_entregas['lon'] =  df_entregas['lon'].str.replace(',', '.').astype(float).round(5)\n",
    "df_entregas['lon'].unique()"
   ]
  },
  {
   "cell_type": "code",
   "execution_count": null,
   "metadata": {},
   "outputs": [],
   "source": [
    "df_entregas[(df_entregas['lat'] > 90) | (df_entregas['lat'] < -90)]"
   ]
  },
  {
   "cell_type": "code",
   "execution_count": null,
   "metadata": {},
   "outputs": [],
   "source": [
    "df_entregas['lat'] = df_entregas['lat'].apply(lambda x: x / 1000000 if x < -90 else x)"
   ]
  },
  {
   "cell_type": "code",
   "execution_count": null,
   "metadata": {},
   "outputs": [],
   "source": [
    "df_entregas[(df_entregas['lon'] > 90) | (df_entregas['lon'] < -90)]"
   ]
  },
  {
   "cell_type": "code",
   "execution_count": null,
   "metadata": {},
   "outputs": [],
   "source": [
    "df_entregas['lon'] = df_entregas['lon'].apply(lambda x: x / 1000000 if x < -90 else x)"
   ]
  },
  {
   "cell_type": "code",
   "execution_count": null,
   "metadata": {},
   "outputs": [],
   "source": [
    "df_entregas.describe()"
   ]
  },
  {
   "cell_type": "code",
   "execution_count": null,
   "metadata": {},
   "outputs": [],
   "source": [
    "def encontrar_subprefeitura_proxima(bairro):\n",
    "    if pd.notna(bairro['subprefeitura']):\n",
    "        return bairro['subprefeitura']\n",
    "\n",
    "    coordenadas_bairro = (bairro['lat'], bairro['lon'])\n",
    "    bairros_com_subprefeitura = df_entregas.dropna(subset=['subprefeitura'])\n",
    "    distancias = bairros_com_subprefeitura.apply(\n",
    "        lambda x: geodesic(coordenadas_bairro, (x['lat'], x['lon'])).kilometers,\n",
    "        axis=1\n",
    "    )\n",
    "    bairro_mais_proximo = bairros_com_subprefeitura.loc[distancias.idxmin()]\n",
    "    return bairro_mais_proximo['subprefeitura']\n",
    "\n",
    "df_entregas['subprefeitura'] = df_entregas.apply(encontrar_subprefeitura_proxima, axis=1)\n",
    "\n",
    "df_entregas"
   ]
  },
  {
   "cell_type": "code",
   "execution_count": null,
   "metadata": {},
   "outputs": [],
   "source": [
    "df_entregas['subprefeitura'].unique()"
   ]
  },
  {
   "cell_type": "code",
   "execution_count": null,
   "metadata": {},
   "outputs": [],
   "source": [
    "novas_colunas = {\n",
    "    'Escolas_Postos': 'escola_posto',\n",
    "    'BAIRRO': 'bairro',\n",
    "    'ENDEREÇO ': 'endereco',\n",
    "    'lat': 'latitude',\n",
    "    'lon': 'longitude',\n",
    "    'Quantidade': 'quantidade'\n",
    "}\n",
    "df_entregas = df_entregas.rename(columns=novas_colunas)\n",
    "df_entregas.head()"
   ]
  },
  {
   "cell_type": "code",
   "execution_count": null,
   "metadata": {},
   "outputs": [],
   "source": [
    "df_entregas['id'].dtype"
   ]
  },
  {
   "cell_type": "code",
   "execution_count": null,
   "metadata": {},
   "outputs": [],
   "source": [
    "df_entregas['id'] = df_entregas['id'].astype(str).str.zfill(3)\n",
    "df_entregas['id'].describe()"
   ]
  },
  {
   "cell_type": "code",
   "execution_count": null,
   "metadata": {},
   "outputs": [],
   "source": [
    "df_entregas = df_entregas.drop_duplicates(subset='id', keep='first')"
   ]
  },
  {
   "cell_type": "code",
   "execution_count": null,
   "metadata": {},
   "outputs": [],
   "source": [
    "df_entregas['id'].describe()"
   ]
  },
  {
   "cell_type": "code",
   "execution_count": null,
   "metadata": {},
   "outputs": [],
   "source": [
    "df_entregas['escola_posto'] = df_entregas['escola_posto'].apply(lambda x: unidecode(x))\n",
    "df_entregas['bairro'] = df_entregas['bairro'].apply(lambda x: unidecode(x))\n",
    "df_entregas['endereco'] = df_entregas['endereco'].apply(lambda x: unidecode(x))\n",
    "df_entregas['subprefeitura'] = df_entregas['subprefeitura'].apply(lambda x: unidecode(x))\n",
    "\n",
    "df_entregas\n"
   ]
  },
  {
   "cell_type": "code",
   "execution_count": null,
   "metadata": {},
   "outputs": [],
   "source": [
    "df_entregas[df_entregas['endereco'].str.contains(r'\\.')]"
   ]
  },
  {
   "cell_type": "code",
   "execution_count": null,
   "metadata": {},
   "outputs": [],
   "source": [
    "df_entregas['endereco'] = df_entregas['endereco'].replace('R\\.', 'RUA', regex=True)\n",
    "df_entregas['endereco'] = df_entregas['endereco'].replace('AV\\.', 'AVENIDA', regex=True)\n",
    "df_entregas['endereco'] = df_entregas['endereco'].replace('AV ', 'AVENIDA', regex=True)\n",
    "df_entregas['endereco'] = df_entregas['endereco'].replace('PCA\\.', 'PRACA', regex=True)\n",
    "df_entregas['endereco'] = df_entregas['endereco'].replace('ESTR\\.', 'ESTRADA', regex=True)\n",
    "df_entregas['endereco'] = df_entregas['endereco'].replace('ALM\\.', 'ALMIRANTE', regex=True)\n",
    "df_entregas['endereco'] = df_entregas['endereco'].replace('SEN\\.', 'SENADOR', regex=True)\n",
    "df_entregas['endereco'] = df_entregas['endereco'].replace('MAL\\.', 'MARECHAL', regex=True)\n",
    "df_entregas['endereco'] = df_entregas['endereco'].replace('ENG\\.', 'ENGENHEIRO', regex=True)\n",
    "df_entregas['endereco'] = df_entregas['endereco'].replace('SD\\.', 'SOLDADO', regex=True)\n",
    "df_entregas['endereco'] = df_entregas['endereco'].replace('CONJ\\.', 'CONJUNTO', regex=True)\n"
   ]
  },
  {
   "cell_type": "code",
   "execution_count": null,
   "metadata": {},
   "outputs": [],
   "source": [
    "df_entregas[df_entregas['endereco'].str.contains(r'\\.')]"
   ]
  },
  {
   "cell_type": "code",
   "execution_count": null,
   "metadata": {},
   "outputs": [],
   "source": [
    "df_entregas[df_entregas['endereco'].str.contains(r'\\/')]"
   ]
  },
  {
   "cell_type": "code",
   "execution_count": null,
   "metadata": {},
   "outputs": [],
   "source": [
    "df_entregas['endereco'] = df_entregas['endereco'].replace('\\. S\\/No', 'S/N', regex=True)\n",
    "df_entregas['endereco'] = df_entregas['endereco'].replace('S\\/N\\.o', 'S/N', regex=True)\n",
    "df_entregas['endereco'] = df_entregas['endereco'].replace('S\\/N\\.deg', 'S/N', regex=True)\n",
    "df_entregas['endereco'] = df_entregas['endereco'].replace('S\\/No', 'S/N', regex=True)\n",
    "df_entregas['endereco'] = df_entregas['endereco'].replace('S\\/Ndeg', 'S/N', regex=True)\n",
    "df_entregas['endereco'] = df_entregas['endereco'].replace('CASTELOS\\/N', 'CASTELO S/N', regex=True)\n",
    "\n",
    "\n",
    "df_entregas[df_entregas['endereco'].str.contains(r'\\/')]\n"
   ]
  },
  {
   "cell_type": "code",
   "execution_count": null,
   "metadata": {},
   "outputs": [],
   "source": [
    "df_entregas['escola_posto'].str[:3].unique()"
   ]
  },
  {
   "cell_type": "code",
   "execution_count": null,
   "metadata": {},
   "outputs": [],
   "source": [
    "df_entregas['escola_posto'] = df_entregas['escola_posto'].replace('CENTRO INTEGRADO DE EDUCACAO PUBLICA', 'CIEP', regex=True)\n",
    "df_entregas['escola_posto'] = df_entregas['escola_posto'].replace('E\\.M.', 'EM ', regex=True)\n",
    "df_entregas['escola_posto'] = df_entregas['escola_posto'].replace('ESCOLA MUNICIPAL', 'EM', regex=True)\n",
    "df_entregas['escola_posto'] = df_entregas['escola_posto'].replace('E\\.M', 'EM ', regex=True)\n",
    "df_entregas['escola_posto'] = df_entregas['escola_posto'].replace('EM\\.', 'EM ', regex=True)\n"
   ]
  },
  {
   "cell_type": "code",
   "execution_count": null,
   "metadata": {},
   "outputs": [],
   "source": [
    "df_entregas['escola_posto'].str[:3].unique()"
   ]
  },
  {
   "cell_type": "code",
   "execution_count": null,
   "metadata": {},
   "outputs": [],
   "source": [
    "df_entregas['tipo'] = df_entregas['escola_posto'].str.split().str.get(0)"
   ]
  },
  {
   "cell_type": "code",
   "execution_count": null,
   "metadata": {},
   "outputs": [],
   "source": [
    "df_entregas['tipo'].unique()"
   ]
  },
  {
   "cell_type": "code",
   "execution_count": null,
   "metadata": {},
   "outputs": [],
   "source": [
    "df_entregas"
   ]
  },
  {
   "cell_type": "code",
   "execution_count": null,
   "metadata": {},
   "outputs": [],
   "source": [
    "def extrair_ultima_palavra(endereco):\n",
    "    palavras = endereco.split()\n",
    "    ultima_palavras = palavras[-1]\n",
    "    \n",
    "    if re.match(r'^\\d+$', ultima_palavra) or ultima_palavra == 'S/N':\n",
    "        return ultima_palavra\n",
    "    else:\n",
    "        return None\n",
    "\n",
    "def atualizar_endereco(endereco):\n",
    "    palavras = endereco.split()\n",
    "    ultima_palavra = palavras[-1]\n",
    "    novo_endereco = ' '.join(palavras[:-1])\n",
    "    \n",
    "    if re.match(r'^\\d+$', ultima_palavra) or ultima_palavra == 'S/N':\n",
    "        return str(novo_endereco)\n",
    "    else:\n",
    "        return endereco\n",
    "\n",
    "df_entregas['endereco'] = df_entregas['endereco'].str.replace('[.,;]', '', regex=True)\n",
    "df_entregas['numero'] = df_entregas['endereco'].apply(extrair_ultimo_palavra)\n",
    "df_entregas['endereco'] = df_entregas['endereco'].apply(atualizar_endereco)"
   ]
  },
  {
   "cell_type": "code",
   "execution_count": null,
   "metadata": {},
   "outputs": [],
   "source": [
    "df_entregas"
   ]
  },
  {
   "cell_type": "code",
   "execution_count": null,
   "metadata": {},
   "outputs": [],
   "source": [
    "df_entregas[df_entregas['numero'].isna()]"
   ]
  },
  {
   "cell_type": "code",
   "execution_count": null,
   "metadata": {},
   "outputs": [],
   "source": [
    "df_entregas['endereco'] = df_entregas['endereco'].replace(' S\\/N ', ' ', regex=True)\n",
    "df_entregas['endereco'] = df_entregas['endereco'].replace('AVENIDA BRASIL 4040 RUA DA VITORIA', 'AVENIDA BRASIL', regex=True)\n",
    "df_entregas['endereco'] = df_entregas['endereco'].replace(' 483\\-639', '', regex=True)\n",
    "\n",
    "df_entregas[df_entregas['numero'].isna()]\n"
   ]
  },
  {
   "cell_type": "code",
   "execution_count": null,
   "metadata": {},
   "outputs": [],
   "source": [
    "df_entregas.loc[df_entregas['id'] == '520', 'numero'] = '483-639'\n",
    "df_entregas.loc[df_entregas['id'] == '260', 'numero'] = '4040'\n",
    "\n"
   ]
  },
  {
   "cell_type": "code",
   "execution_count": null,
   "metadata": {},
   "outputs": [],
   "source": [
    "df_entregas.loc[df_entregas['id'] == '260']"
   ]
  },
  {
   "cell_type": "code",
   "execution_count": null,
   "metadata": {},
   "outputs": [],
   "source": [
    "df_entregas[df_entregas['numero'].isna()]"
   ]
  },
  {
   "cell_type": "code",
   "execution_count": null,
   "metadata": {},
   "outputs": [],
   "source": [
    "df_entregas['numero'].fillna('S/N', inplace=True)"
   ]
  },
  {
   "cell_type": "code",
   "execution_count": null,
   "metadata": {},
   "outputs": [],
   "source": [
    "df_entregas[df_entregas['numero'].isna()]"
   ]
  },
  {
   "cell_type": "code",
   "execution_count": null,
   "metadata": {},
   "outputs": [],
   "source": [
    "df_entregas.rename(columns={'endereco': 'logradouro'}, inplace=True)"
   ]
  },
  {
   "cell_type": "code",
   "execution_count": null,
   "metadata": {},
   "outputs": [],
   "source": [
    "df_entregas"
   ]
  },
  {
   "cell_type": "code",
   "execution_count": null,
   "metadata": {},
   "outputs": [],
   "source": [
    "df_entregas.columns"
   ]
  },
  {
   "cell_type": "code",
   "execution_count": null,
   "metadata": {},
   "outputs": [],
   "source": [
    "nova_ordem = ['id', 'escola_posto', 'tipo', 'logradouro', 'numero', 'bairro', 'subprefeitura', 'quantidade', 'latitude', 'longitude']\n",
    "df_entregas = df_entregas[nova_ordem]\n",
    "df_entregas"
   ]
  },
  {
   "cell_type": "code",
   "execution_count": null,
   "metadata": {},
   "outputs": [],
   "source": [
    "df_entregas['subprefeitura'].unique()"
   ]
  },
  {
   "cell_type": "code",
   "execution_count": null,
   "metadata": {},
   "outputs": [],
   "source": [
    "df_qtd_por_subprefeitura = df_entregas.groupby('subprefeitura')['quantidade'].sum().reset_index()\n",
    "df_qtd_por_subprefeitura.rename(columns={'quantidade': 'quantidade_total'}, inplace=True)\n",
    "df_qtd_por_subprefeitura"
   ]
  },
  {
   "cell_type": "code",
   "execution_count": null,
   "metadata": {},
   "outputs": [],
   "source": [
    "df_qtd_por_subprefeitura.to_csv(\"quantidade_por_subprefeitura.csv\", index=False)"
   ]
  },
  {
   "cell_type": "code",
   "execution_count": null,
   "metadata": {},
   "outputs": [],
   "source": [
    "import numpy as np\n",
    "from scipy.spatial import distance_matrix\n",
    "from sklearn.neighbors import NearestNeighbors\n",
    "\n",
    "coords = df_entregas[['latitude', 'longitude']].values\n",
    "dist_matrix = distance_matrix(coords, coords)\n",
    "\n",
    "n_entregas = len(df_entregas)\n",
    "nn = NearestNeighbors(n_neighbors=n_entregas - 1, metric='precomputed')\n",
    "nn.fit(dist_matrix)\n",
    "route_order = nn.kneighbors(return_distance=False)\n",
    "\n",
    "rota = [0]\n",
    "entregas_visitadas = set([0])\n",
    "\n",
    "for _ in range(n_entregas - 1):\n",
    "    ultimo_entrega = rota[-1]\n",
    "    proxima_entrega = None\n",
    "    menor_distancia = float('inf')\n",
    "    \n",
    "    for entrega in route_order[ultimo_entrega]:\n",
    "        if entrega not in entregas_visitadas:\n",
    "            if dist_matrix[ultimo_entrega][entrega] < menor_distancia:\n",
    "                menor_distancia = dist_matrix[ultimo_entrega][entrega]\n",
    "                proxima_entrega = entrega\n",
    "                \n",
    "    if proxima_entrega is not None:\n",
    "        rota.append(proxima_entrega)\n",
    "        entregas_visitadas.add(proxima_entrega)\n",
    "\n",
    "rota_otimizada = df_entregas.iloc[rota]\n",
    "rota_otimizada"
   ]
  },
  {
   "cell_type": "code",
   "execution_count": null,
   "metadata": {},
   "outputs": [],
   "source": [
    "len(rota_otimizada['id'].unique())"
   ]
  },
  {
   "cell_type": "code",
   "execution_count": null,
   "metadata": {},
   "outputs": [],
   "source": [
    "rota_otimizada.to_csv(\"rota_otimizada.csv\", index=False)"
   ]
  },
  {
   "cell_type": "code",
   "execution_count": null,
   "metadata": {},
   "outputs": [],
   "source": [
    "coords = rota_otimizada[['latitude', 'longitude']].values\n",
    "\n",
    "plt.figure(figsize=(10, 6))\n",
    "plt.scatter(coords[:, 1], coords[:, 0], c='blue', marker='o', label='Entregas')\n",
    "plt.xlabel('Longitude')\n",
    "plt.ylabel('Latitude')\n",
    "plt.title('Geolocalizações das Entregas')\n",
    "\n",
    "plt.plot(coords[:, 1], coords[:, 0], linestyle='-', c='red', label='Rota Otimizada')\n",
    "plt.scatter(coords[0, 1], coords[0, 0], c='green', marker='s', label='Depósito')\n",
    "\n",
    "for i, txt in enumerate(rota_otimizada['id']):\n",
    "    plt.annotate(txt, (coords[i, 1], coords[i, 0]), fontsize=8, ha='right')\n",
    "\n",
    "plt.legend()\n",
    "plt.show()"
   ]
  }
 ],
 "metadata": {
  "kernelspec": {
   "display_name": "Python 3",
   "language": "python",
   "name": "python3"
  },
  "language_info": {
   "codemirror_mode": {
    "name": "ipython",
    "version": 3
   },
   "file_extension": ".py",
   "mimetype": "text/x-python",
   "name": "python",
   "nbconvert_exporter": "python",
   "pygments_lexer": "ipython3",
   "version": "3.10.11"
  },
  "orig_nbformat": 4
 },
 "nbformat": 4,
 "nbformat_minor": 2
}
